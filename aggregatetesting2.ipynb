{
 "cells": [
  {
   "cell_type": "markdown",
   "id": "56f5f9cd",
   "metadata": {},
   "source": [
    "***GENERATED CODE FOR aggregatetesting2 PIPELINE.***"
   ]
  },
  {
   "cell_type": "markdown",
   "id": "0af1a0d3",
   "metadata": {},
   "source": [
    "***DON'T EDIT THIS CODE.***"
   ]
  },
  {
   "cell_type": "markdown",
   "id": "97f8cf40",
   "metadata": {},
   "source": [
    "***CONNECTOR FUNCTIONS TO READ DATA.***"
   ]
  },
  {
   "cell_type": "code",
   "execution_count": null,
   "id": "74b61ac9",
   "metadata": {},
   "outputs": [],
   "source": [
    "import os\n",
    "import datetime\n",
    "import logging\n",
    "import warnings\n",
    "warnings.filterwarnings('ignore')\n",
    "logging.basicConfig(format='%(levelname)s:%(message)s', level=logging.INFO)\n",
    "\n",
    "\n",
    "class HDFSConnector:\n",
    "\n",
    "    def fetch(spark, config):\n",
    "        ################### INPUT HADOOP HOST PORT TO CONNECT WITH ###############################\n",
    "        hdfs_server = str(os.environ['HDFS_SERVER'])\n",
    "        hdfs_port = int(os.environ['HDFS_PORT'])\n",
    "        df = spark.read.options(header='true', inferschema='true').csv(\n",
    "            f\"hdfs://{hdfs_server}:{hdfs_port}{eval(config)['url']}\", header='true')\n",
    "        display(df.limit(2).toPandas())\n",
    "        return df\n",
    "\n",
    "    def put(df, spark, config):\n",
    "        return df.write.format('csv').options(header='true' if eval(config)[\"is_header\"] == \"Use Header Line\" else 'false',\n",
    "                                              delimiter=eval(config)[\"delimiter\"]).save((\"%s %s\") % (datetime.datetime.now().strftime(\"%Y-%m-%d %H.%M.%S\")+\"_\", eval(config)['url']))\n"
   ]
  },
  {
   "cell_type": "markdown",
   "id": "d31ba881",
   "metadata": {},
   "source": [
    "***OPERATION FUNCTIONS***"
   ]
  },
  {
   "cell_type": "code",
   "execution_count": null,
   "id": "b4357b84",
   "metadata": {},
   "outputs": [],
   "source": [
    "class AggregationOperation:\n",
    "\n",
    "    def run(inStages, inStagesData, stageId, sparkSession, stageAttribs):\n",
    "\n",
    "        aggregations = \"\"\n",
    "\n",
    "        for aggregate in stageAttribs[\"aggregate_on\"]:\n",
    "            if aggregate['method_type'] == \"count\":\n",
    "                if aggregate['method'] == \"all\":\n",
    "                    aggregations += \"%s(%s) as %s, \" % (\n",
    "                        aggregate['method'], aggregate['input_field'], aggregate['aggregate_field'])\n",
    "                elif aggregate['method'] == \"empty\":\n",
    "                    aggregations += \"%s(case %s when null then 1 else null end) as %s, \" % (\n",
    "                        aggregate['method'], aggregate['input_field'], aggregate['aggregate_field'])\n",
    "                elif aggregate['method'] == \"non empty\":\n",
    "                    aggregations += \"%s(case %s when null then null else 1 end) as %s, \" % (\n",
    "                        aggregate['method'], aggregate['input_field'], aggregate['aggregate_field'])\n",
    "                elif aggregate['method'] == \"custom\":\n",
    "                    aggregations += \"%s(case %s when %s then 1 else null end) as %s, \" % (\n",
    "                        aggregate['method'], aggregate['input_field'], aggregate['count_custom_value'], aggregate['aggregate_field'])\n",
    "                elif aggregate['method'] == \"unique\":\n",
    "                    aggregations += \"%s(DISTINCT(%s)) as %s, \" % (\n",
    "                        aggregate['method'], aggregate['input_field'], aggregate['aggregate_field'])\n",
    "\n",
    "            else:\n",
    "                aggregations += \"%s(%s) as %s, \" % (\n",
    "                    aggregate['method'], aggregate['input_field'], aggregate['aggregate_field'])\n",
    "\n",
    "        group_by = \",\".join(stageAttribs[\"group_by\"])\n",
    "\n",
    "        inStagesData[inStages[0]].createOrReplaceTempView(\"view%s\" % (stageId))\n",
    "        query = \"SELECT %s %s FROM %s GROUP BY %s\" % (\n",
    "            aggregations, group_by, \"view%s\" % (stageId), group_by)\n",
    "        return sparkSession.sql(query)\n"
   ]
  },
  {
   "cell_type": "markdown",
   "id": "3f624c48",
   "metadata": {},
   "source": [
    "***CONNECTOR FUNCTIONS TO WRITE DATA.***"
   ]
  },
  {
   "cell_type": "code",
   "execution_count": null,
   "id": "cbad5fcb",
   "metadata": {},
   "outputs": [],
   "source": [
    "import datetime\n",
    "import requests\n",
    "import datetime\n",
    "import logging\n",
    "import warnings\n",
    "warnings.filterwarnings('ignore')\n",
    "logging.basicConfig(format='%(levelname)s:%(message)s', level=logging.INFO)\n",
    "\n",
    "\n",
    "class NumtraConnector:\n",
    "\n",
    "    def put(inStages, inStagesData, stageId, spark, config):\n",
    "        path = eval(config)['server_url']\n",
    "        baseType = eval(config)['baseType']\n",
    "        results_url = eval(config)['results_url']\n",
    "        server = eval(config)['server']\n",
    "        originalfile = eval(config)['orignalKey']\n",
    "        eval(config)['pathOnly']\n",
    "        filename = eval(config)['filename']\n",
    "        eval(config)['ser']\n",
    "        eval(config)['user']\n",
    "        eval(config)['password']\n",
    "        eval(config)['authSource']\n",
    "        eval(config)['user_id']\n",
    "        eval(config)['parent_id']\n",
    "        eval(config)['project_id']\n",
    "        time = str(int(datetime.datetime.now().timestamp()))\n",
    "\n",
    "        inStagesData[inStages[0]]\n",
    "\n",
    "        print(path)\n",
    "        print(baseType)\n",
    "        print(results_url)\n",
    "        print(server)\n",
    "        print(originalfile)\n",
    "        print(filename)\n",
    "\n",
    "        args = {\n",
    "            'url': path,\n",
    "            'baseType': baseType,\n",
    "            'originalfile': originalfile,\n",
    "            'filename': time + filename\n",
    "        }\n",
    "\n",
    "        response = requests.post(results_url, args)\n",
    "        return response\n"
   ]
  },
  {
   "cell_type": "markdown",
   "id": "dec47def",
   "metadata": {},
   "source": [
    "***READING DATAFRAME***"
   ]
  },
  {
   "cell_type": "code",
   "execution_count": null,
   "id": "757311aa",
   "metadata": {},
   "outputs": [],
   "source": [
    "############## CREATE SPARK SESSION ############################ ENTER YOUR SPARK MASTER IP AND PORT TO CONNECT TO SERVER ################\n",
    "from pyspark.sql import SparkSession\n",
    "spark = SparkSession.builder.master('local[1]').getOrCreate()\n",
    "#%run aggregatetesting2Hooks.ipynb\n",
    "try:\n",
    "\t#sourcePreExecutionHook()\n",
    "\n",
    "\taggregatetetfilemdgd = HDFSConnector.fetch(spark, \"{'url': '/FileStore/platform/testdata/1715767521934_Aggregate test file.csv', 'filename': 'Aggregate test file.csv', 'delimiter': ',', 'file_type': 'Delimeted', 'dbfs_token': '', 'dbfs_domain': '', 'FilePath': '/DNM_TESTING 9th May/Test data/Aggregate test file.csv', 'viewFileName': 'Aggregate test file.csv', 'is_header': 'Use Header Line', 'baseType': 'hdfs', 'server_url': '/nexusMax/NexusMaxPlatform/uploads/platform/', 'results_url': 'http://dnm.bfirst.ai:44040/api/read/hdfs'}\")\n",
    "\n",
    "except Exception as ex: \n",
    "\tlogging.error(ex)\n",
    "#spark.stop()\n"
   ]
  },
  {
   "cell_type": "markdown",
   "id": "776be29f",
   "metadata": {},
   "source": [
    "***PERFORMING OPERATIONS***"
   ]
  },
  {
   "cell_type": "code",
   "execution_count": null,
   "id": "8bf9b3e6",
   "metadata": {},
   "outputs": [],
   "source": [
    "#%run aggregatetesting2Hooks.ipynb\n",
    "try:\n",
    "\taggregation = AggregationOperation.run([\"66458dc3575dbb72f21d5836\"],{\"66458dc3575dbb72f21d5836\": aggregatetetfilemdgd}, \"66458dc8575dbb72f21d583a\", spark, \"{'dataType': 'real', 'dataTypes': ['String', 'numeric', 'real'], 'SelectedColumns': ['Sales'], 'functionData': {'functionName': 'aggregate', 'applyOn': [{'columnName': 'Sales', 'type': 'real', 'disable': False}], 'functionsData': [{'aggregateFunction': 'sum', 'aggregateOn': [{'columnName': 'Sales', 'type': 'real', 'disable': False}], 'groupOn': [{'columnName': 'Category', 'type': 'String', 'disable': True}]}]}, 'allColumns': [{'columnName': 'State', 'type': 'String', 'disable': True}, {'columnName': 'Postal Code', 'type': 'numeric', 'disable': True}, {'columnName': 'Region', 'type': 'String', 'disable': True}, {'columnName': 'Category', 'type': 'String', 'disable': True}, {'columnName': 'Sub-Category', 'type': 'String', 'disable': True}, {'columnName': 'Sales', 'type': 'real', 'disable': False}], 'url': '/FileStore/platform/testdata/1715767521934_Aggregate test file.csv', 'SelectedColumnsData': [{'columnName': 'Sales', 'type': 'real', 'disable': False}], 'groupOn': ['Category'], 'server_url': '/nexusMax/NexusMaxPlatform/uploads/platform/'}\")\n",
    "\n",
    "except Exception as ex: \n",
    "\tlogging.error(ex)\n"
   ]
  },
  {
   "cell_type": "markdown",
   "id": "726f062d",
   "metadata": {},
   "source": [
    "***WRITING DATAFRAME***"
   ]
  },
  {
   "cell_type": "code",
   "execution_count": null,
   "id": "4035a98b",
   "metadata": {},
   "outputs": [],
   "source": [
    "#%run aggregatetesting2Hooks.ipynb\n",
    "try:\n",
    "\t#sinkPreExecutionHook()\n",
    "\n",
    "\ttestresultsoutput = NumtraConnector.fetch(spark, \"{'samplefile': '/FileStore/platform/sampleData/66458dc3575dbb72f21d5836/part-00000-59f5ada9-dc06-49f7-bddd-63ceea67c6a8-c000.csv', 'samplecount': 49, 'originalcount': 49, 'orignalKey': '/FileStore/platform/testdata/1715767521934_Aggregate test file.csv', 'pathOnly': '/DNM_TESTING 9th May/Test_results', 'project_id': '663c948ebc62e3f208c799d1', 'parent_id': '663c948ebc62e3f208c799d1', 'original_schema': [{'checked': True, 'inherited': True, 'is_categorical': False, 'bad_values': '', 'nullable': 'true', '_id': '66458e1a575dbb72f21d5876', 'field': 'State', 'alias': 'State', 'type': 'String', 'position': '0'}, {'checked': True, 'inherited': True, 'is_categorical': False, 'bad_values': '', 'nullable': 'true', '_id': '66458e1a575dbb72f21d5877', 'field': 'Postal Code', 'alias': 'Postal Code', 'type': 'numeric', 'position': '1'}, {'checked': True, 'inherited': True, 'is_categorical': False, 'bad_values': '', 'nullable': 'true', '_id': '66458e1a575dbb72f21d5878', 'field': 'Region', 'alias': 'Region', 'type': 'String', 'position': '2'}, {'checked': True, 'inherited': True, 'is_categorical': False, 'bad_values': '', 'nullable': 'true', '_id': '66458e1a575dbb72f21d5879', 'field': 'Category', 'alias': 'Category', 'type': 'String', 'position': '3'}, {'checked': True, 'inherited': True, 'is_categorical': False, 'bad_values': '', 'nullable': 'true', '_id': '66458e1a575dbb72f21d587a', 'field': 'Sub-Category', 'alias': 'Sub-Category', 'type': 'String', 'position': '4'}, {'checked': True, 'inherited': True, 'is_categorical': False, 'bad_values': '', 'nullable': 'true', '_id': '66458e1a575dbb72f21d587b', 'field': 'Sales', 'alias': 'Sales', 'type': 'real', 'position': '5'}], 'actual_schema': [{'checked': True, 'inherited': True, 'is_categorical': False, 'bad_values': '', 'nullable': 'true', '_id': '66458e1a575dbb72f21d5870', 'field': 'State', 'alias': 'State', 'type': 'String', 'position': '0'}, {'checked': True, 'inherited': True, 'is_categorical': False, 'bad_values': '', 'nullable': 'true', '_id': '66458e1a575dbb72f21d5871', 'field': 'Postal Code', 'alias': 'Postal Code', 'type': 'numeric', 'position': '1'}, {'checked': True, 'inherited': True, 'is_categorical': False, 'bad_values': '', 'nullable': 'true', '_id': '66458e1a575dbb72f21d5872', 'field': 'Region', 'alias': 'Region', 'type': 'String', 'position': '2'}, {'checked': True, 'inherited': True, 'is_categorical': False, 'bad_values': '', 'nullable': 'true', '_id': '66458e1a575dbb72f21d5873', 'field': 'Category', 'alias': 'Category', 'type': 'String', 'position': '3'}, {'checked': True, 'inherited': True, 'is_categorical': False, 'bad_values': '', 'nullable': 'true', '_id': '66458e1a575dbb72f21d5874', 'field': 'Sub-Category', 'alias': 'Sub-Category', 'type': 'String', 'position': '4'}, {'checked': True, 'inherited': True, 'is_categorical': False, 'bad_values': '', 'nullable': 'true', '_id': '66458e1a575dbb72f21d5875', 'field': 'Sales', 'alias': 'Sales', 'type': 'real', 'position': '5'}], 'server': 'https://dnm.bfirst.ai:443', 'server_url': '/nexusMax/NexusMaxPlatform/uploads/platform/', 'delimiter': ',', 'file_type': 'Delimeted', 'filename': 'AggregateFresult.csv', 'token': '', 'domain': '', 'is_header': 'Use Header Line', 'url': '/FileStore/platform/uploadedSourceFiles/part-00000-cd56b0de-96a8-49eb-bd7d-7958ce4d5616-c000.csv', 'results_url': 'http://dnm.bfirst.ai:44040/api/read/hdfs'}\")\n",
    "\n",
    "except Exception as ex: \n",
    "\tlogging.error(ex)\n"
   ]
  }
 ],
 "metadata": {},
 "nbformat": 4,
 "nbformat_minor": 5
}
